{
 "cells": [
  {
   "cell_type": "markdown",
   "metadata": {},
   "source": [
    "# Car Damage Detection using VGG16"
   ]
  },
  {
   "cell_type": "code",
   "execution_count": 51,
   "metadata": {
    "colab": {
     "base_uri": "https://localhost:8080/",
     "height": 34
    },
    "colab_type": "code",
    "id": "G3_H7X0hZWW3",
    "outputId": "95c87c83-5994-46d4-da25-1dcdc619fe80"
   },
   "outputs": [],
   "source": [
    "import cv2\n",
    "import numpy as np\n",
    "import warnings\n",
    "import keras,os\n",
    "import pandas as pd\n",
    "\n",
    "from keras.preprocessing.image import ImageDataGenerator\n",
    "from keras.models import Model,Sequential\n",
    "from keras.layers import Flatten,Dense,Input,Conv2D,MaxPooling2D,GlobalMaxPooling2D,GlobalAveragePooling2D, MaxPool2D\n",
    "from keras.preprocessing import image\n",
    "from keras.utils import layer_utils\n",
    "from keras.utils.data_utils import get_file\n",
    "from keras import backend as K\n",
    "from keras.applications.vgg16 import VGG16,preprocess_input, decode_predictions\n",
    "from keras.engine.topology import get_source_inputs\n",
    "\n",
    "import matplotlib.pyplot as plt  # doctest: +SKIP\n",
    "from matplotlib.colors import ListedColormap\n",
    "from sklearn.metrics import confusion_matrix"
   ]
  },
  {
   "cell_type": "markdown",
   "metadata": {},
   "source": [
    "## Path to VGG16 weights"
   ]
  },
  {
   "cell_type": "code",
   "execution_count": 52,
   "metadata": {
    "colab": {},
    "colab_type": "code",
    "id": "ThlVgLlXddEJ"
   },
   "outputs": [],
   "source": [
    "model_path = \"vgg16_weights_tf_dim_ordering_tf_kernels.h5\""
   ]
  },
  {
   "cell_type": "markdown",
   "metadata": {},
   "source": [
    "## Architecture and Loading weights"
   ]
  },
  {
   "cell_type": "code",
   "execution_count": 53,
   "metadata": {
    "colab": {},
    "colab_type": "code",
    "id": "3tz3-pYGdxPF"
   },
   "outputs": [],
   "source": [
    "def VGG16(include_top=False, weights='imagenet',input_tensor=None, input_shape=None,pooling=None,classes=1000):\n",
    "    \"\"\"\n",
    "    VGG16 network. Further truncating the last 4 layers\n",
    "    \"\"\"\n",
    "    model = Sequential()\n",
    "    model.add(Conv2D(input_shape=(224,224,3),filters=64,kernel_size=(3,3),padding=\"same\", activation=\"relu\",dim_ordering=\"tf\",trainable=False))\n",
    "    model.add(Conv2D(filters=64,kernel_size=(3,3),padding=\"same\", activation=\"relu\",dim_ordering=\"tf\",trainable=False))\n",
    "    model.add(MaxPool2D(pool_size=(2,2),strides=(2,2),dim_ordering=\"tf\",trainable=False))\n",
    "    \n",
    "    model.add(Conv2D(filters=128, kernel_size=(3,3), padding=\"same\", activation=\"relu\",dim_ordering=\"tf\",trainable=False))\n",
    "    model.add(Conv2D(filters=128, kernel_size=(3,3), padding=\"same\", activation=\"relu\",dim_ordering=\"tf\",trainable=False))\n",
    "    model.add(MaxPool2D(pool_size=(2,2),strides=(2,2),dim_ordering=\"tf\",trainable=False))\n",
    "    \n",
    "    model.add(Conv2D(filters=256, kernel_size=(3,3), padding=\"same\", activation=\"relu\",dim_ordering=\"tf\",trainable=False))\n",
    "    model.add(Conv2D(filters=256, kernel_size=(3,3), padding=\"same\", activation=\"relu\",dim_ordering=\"tf\",trainable=False))\n",
    "    model.add(Conv2D(filters=256, kernel_size=(3,3), padding=\"same\", activation=\"relu\",dim_ordering=\"tf\",trainable=False))\n",
    "    model.add(MaxPool2D(pool_size=(2,2),strides=(2,2),dim_ordering=\"tf\",trainable=False))\n",
    "    \n",
    "    model.add(Conv2D(filters=512, kernel_size=(3,3), padding=\"same\", activation=\"relu\",dim_ordering=\"tf\",trainable=False))\n",
    "    model.add(Conv2D(filters=512, kernel_size=(3,3), padding=\"same\", activation=\"relu\",dim_ordering=\"tf\",trainable=False))\n",
    "    model.add(Conv2D(filters=512, kernel_size=(3,3), padding=\"same\", activation=\"relu\",dim_ordering=\"tf\",trainable=False))\n",
    "    model.add(MaxPool2D(pool_size=(2,2),strides=(2,2),dim_ordering=\"tf\",trainable=False))\n",
    "    \n",
    "    model.add(Conv2D(filters=512, kernel_size=(3,3), padding=\"same\", activation=\"relu\",dim_ordering=\"tf\",trainable=False))\n",
    "    model.add(Conv2D(filters=512, kernel_size=(3,3), padding=\"same\", activation=\"relu\",dim_ordering=\"tf\",trainable=False))\n",
    "    model.add(Conv2D(filters=512, kernel_size=(3,3), padding=\"same\", activation=\"relu\",dim_ordering=\"tf\",trainable=False))\n",
    "    model.add(MaxPool2D(pool_size=(2,2),strides=(2,2),dim_ordering=\"tf\",trainable=False))\n",
    "    \n",
    "\n",
    "    model.add(Flatten(name='flatten'))\n",
    "    model.add(Dense(4096, activation='relu', name='fc1'))\n",
    "    model.add(Dense(4096, activation='relu', name='fc2'))\n",
    "    model.add(Dense(classes, activation='softmax', name='predictions'))\n",
    "    #weights_path = get_file('vgg16_weights_tf_dim_ordering_tf_kernels_notop.h5',path,cache_subdir='models')\n",
    "    model.load_weights(model_path)\n",
    "    model.pop()\n",
    "    model.pop()\n",
    "    model.pop()\n",
    "    model.pop()\n",
    "    model.add(Flatten(name='flatten'))\n",
    "    #model.add(Dense(25, activation='relu', name='fc1'))\n",
    "    #model.add(Dense(17, activation='relu', name='fc2'))\n",
    "    #model.add(Dense(15, activation='relu', name='fc3'))\n",
    "    #model.add(Dense(2, activation='softmax', name='predictions'))   \n",
    "    #model.summary()\n",
    "    print('Model ready...')\n",
    "    return model"
   ]
  },
  {
   "cell_type": "code",
   "execution_count": 54,
   "metadata": {
    "colab": {},
    "colab_type": "code",
    "id": "reUurb6jfXNH"
   },
   "outputs": [],
   "source": [
    "def feature_extraction(directory0):\n",
    "    \"\"\"\n",
    "    Calculate the forward pass output of VGG16 model. \n",
    "    This output if fed to dense network for bianry classification.\n",
    "    \"\"\"\n",
    "    X = np.arange(25088,dtype=int)\n",
    "    Y = np.array(0,dtype=int)\n",
    "    cnt = 0\n",
    "    for filename in os.listdir(directory0):\n",
    "#         cnt += 1\n",
    "#         if(cnt%100==0):\n",
    "#            print(cnt)\n",
    "        img = image.load_img(directory0+filename, target_size=(224, 224))\n",
    "        x = image.img_to_array(img)\n",
    "        x = np.expand_dims(x, axis=0)\n",
    "        x = preprocess_input(x)\n",
    "        #print('Input image shape:', x.shape)\n",
    "        preds = model.predict(x)\n",
    "        #print(preds.shape)\n",
    "        X = np.vstack((X,preds))\n",
    "        if 'damage' in directory0:\n",
    "            Y = np.vstack((Y,0))\n",
    "        else:\n",
    "            Y = np.vstack((Y,1))\n",
    "    X = X[1:]\n",
    "    Y = Y[1:]\n",
    "    print(X.shape,Y.shape)\n",
    "    return X, Y"
   ]
  },
  {
   "cell_type": "code",
   "execution_count": 55,
   "metadata": {
    "colab": {
     "base_uri": "https://localhost:8080/",
     "height": 360
    },
    "colab_type": "code",
    "id": "g948YEoWfa2b",
    "outputId": "6f62277f-8dcb-4a67-9b3b-32df37ff8549",
    "scrolled": true
   },
   "outputs": [
    {
     "name": "stderr",
     "output_type": "stream",
     "text": [
      "/home/sagar/.local/lib/python3.6/site-packages/ipykernel_launcher.py:6: UserWarning: Update your `Conv2D` call to the Keras 2 API: `Conv2D(input_shape=(224, 224,..., filters=64, kernel_size=(3, 3), padding=\"same\", activation=\"relu\", trainable=False, data_format=\"channels_last\")`\n",
      "  \n",
      "/home/sagar/.local/lib/python3.6/site-packages/ipykernel_launcher.py:7: UserWarning: Update your `Conv2D` call to the Keras 2 API: `Conv2D(filters=64, kernel_size=(3, 3), padding=\"same\", activation=\"relu\", trainable=False, data_format=\"channels_last\")`\n",
      "  import sys\n",
      "/home/sagar/.local/lib/python3.6/site-packages/ipykernel_launcher.py:8: UserWarning: Update your `MaxPooling2D` call to the Keras 2 API: `MaxPooling2D(pool_size=(2, 2), strides=(2, 2), trainable=False, data_format=\"channels_last\")`\n",
      "  \n",
      "/home/sagar/.local/lib/python3.6/site-packages/ipykernel_launcher.py:10: UserWarning: Update your `Conv2D` call to the Keras 2 API: `Conv2D(filters=128, kernel_size=(3, 3), padding=\"same\", activation=\"relu\", trainable=False, data_format=\"channels_last\")`\n",
      "  # Remove the CWD from sys.path while we load stuff.\n",
      "/home/sagar/.local/lib/python3.6/site-packages/ipykernel_launcher.py:11: UserWarning: Update your `Conv2D` call to the Keras 2 API: `Conv2D(filters=128, kernel_size=(3, 3), padding=\"same\", activation=\"relu\", trainable=False, data_format=\"channels_last\")`\n",
      "  # This is added back by InteractiveShellApp.init_path()\n",
      "/home/sagar/.local/lib/python3.6/site-packages/ipykernel_launcher.py:12: UserWarning: Update your `MaxPooling2D` call to the Keras 2 API: `MaxPooling2D(pool_size=(2, 2), strides=(2, 2), trainable=False, data_format=\"channels_last\")`\n",
      "  if sys.path[0] == '':\n",
      "/home/sagar/.local/lib/python3.6/site-packages/ipykernel_launcher.py:14: UserWarning: Update your `Conv2D` call to the Keras 2 API: `Conv2D(filters=256, kernel_size=(3, 3), padding=\"same\", activation=\"relu\", trainable=False, data_format=\"channels_last\")`\n",
      "  \n",
      "/home/sagar/.local/lib/python3.6/site-packages/ipykernel_launcher.py:15: UserWarning: Update your `Conv2D` call to the Keras 2 API: `Conv2D(filters=256, kernel_size=(3, 3), padding=\"same\", activation=\"relu\", trainable=False, data_format=\"channels_last\")`\n",
      "  from ipykernel import kernelapp as app\n",
      "/home/sagar/.local/lib/python3.6/site-packages/ipykernel_launcher.py:16: UserWarning: Update your `Conv2D` call to the Keras 2 API: `Conv2D(filters=256, kernel_size=(3, 3), padding=\"same\", activation=\"relu\", trainable=False, data_format=\"channels_last\")`\n",
      "  app.launch_new_instance()\n",
      "/home/sagar/.local/lib/python3.6/site-packages/ipykernel_launcher.py:17: UserWarning: Update your `MaxPooling2D` call to the Keras 2 API: `MaxPooling2D(pool_size=(2, 2), strides=(2, 2), trainable=False, data_format=\"channels_last\")`\n",
      "/home/sagar/.local/lib/python3.6/site-packages/ipykernel_launcher.py:19: UserWarning: Update your `Conv2D` call to the Keras 2 API: `Conv2D(filters=512, kernel_size=(3, 3), padding=\"same\", activation=\"relu\", trainable=False, data_format=\"channels_last\")`\n",
      "/home/sagar/.local/lib/python3.6/site-packages/ipykernel_launcher.py:20: UserWarning: Update your `Conv2D` call to the Keras 2 API: `Conv2D(filters=512, kernel_size=(3, 3), padding=\"same\", activation=\"relu\", trainable=False, data_format=\"channels_last\")`\n",
      "/home/sagar/.local/lib/python3.6/site-packages/ipykernel_launcher.py:21: UserWarning: Update your `Conv2D` call to the Keras 2 API: `Conv2D(filters=512, kernel_size=(3, 3), padding=\"same\", activation=\"relu\", trainable=False, data_format=\"channels_last\")`\n",
      "/home/sagar/.local/lib/python3.6/site-packages/ipykernel_launcher.py:22: UserWarning: Update your `MaxPooling2D` call to the Keras 2 API: `MaxPooling2D(pool_size=(2, 2), strides=(2, 2), trainable=False, data_format=\"channels_last\")`\n",
      "/home/sagar/.local/lib/python3.6/site-packages/ipykernel_launcher.py:24: UserWarning: Update your `Conv2D` call to the Keras 2 API: `Conv2D(filters=512, kernel_size=(3, 3), padding=\"same\", activation=\"relu\", trainable=False, data_format=\"channels_last\")`\n",
      "/home/sagar/.local/lib/python3.6/site-packages/ipykernel_launcher.py:25: UserWarning: Update your `Conv2D` call to the Keras 2 API: `Conv2D(filters=512, kernel_size=(3, 3), padding=\"same\", activation=\"relu\", trainable=False, data_format=\"channels_last\")`\n",
      "/home/sagar/.local/lib/python3.6/site-packages/ipykernel_launcher.py:26: UserWarning: Update your `Conv2D` call to the Keras 2 API: `Conv2D(filters=512, kernel_size=(3, 3), padding=\"same\", activation=\"relu\", trainable=False, data_format=\"channels_last\")`\n",
      "/home/sagar/.local/lib/python3.6/site-packages/ipykernel_launcher.py:27: UserWarning: Update your `MaxPooling2D` call to the Keras 2 API: `MaxPooling2D(pool_size=(2, 2), strides=(2, 2), trainable=False, data_format=\"channels_last\")`\n"
     ]
    },
    {
     "name": "stdout",
     "output_type": "stream",
     "text": [
      "Sagar\n"
     ]
    }
   ],
   "source": [
    "model = VGG16()"
   ]
  },
  {
   "cell_type": "markdown",
   "metadata": {},
   "source": [
    "## Path to dataset"
   ]
  },
  {
   "cell_type": "code",
   "execution_count": 57,
   "metadata": {},
   "outputs": [],
   "source": [
    "directory0 = 'data1a/training/00-damage/'\n",
    "directory1 = 'data1a/training/01-whole/'\n",
    "directory2 = 'data1a/validation/00-damage/'\n",
    "directory3 = 'data1a/validation/01-whole/'"
   ]
  },
  {
   "cell_type": "markdown",
   "metadata": {},
   "source": [
    "## Feature extraction and Dataset preparation"
   ]
  },
  {
   "cell_type": "code",
   "execution_count": 58,
   "metadata": {
    "colab": {
     "base_uri": "https://localhost:8080/",
     "height": 187
    },
    "colab_type": "code",
    "id": "tmsiKSBRfc-p",
    "outputId": "1ae9def2-2fd4-4cc1-c8c2-48621880f65c"
   },
   "outputs": [
    {
     "name": "stdout",
     "output_type": "stream",
     "text": [
      "(920, 25088) (920, 1)\n",
      "(230, 25088) (230, 1)\n",
      "(230, 25088) (230, 1)\n",
      "(839, 25088) (839, 1)\n",
      "(1759, 25088) (460, 25088) (1759, 1) (460, 1)\n"
     ]
    }
   ],
   "source": [
    "X1, Y1 = feature_extraction(directory1)\n",
    "X2, Y2 = feature_extraction(directory2)\n",
    "X3, Y3 = feature_extraction(directory3)\n",
    "X0, Y0 = feature_extraction(directory0)\n",
    "\n",
    "X_train = np.vstack((X0,X1))\n",
    "Y_train = np.vstack((Y0,Y1)) \n",
    "X_test = np.vstack((X2,X3))\n",
    "Y_test = np.vstack((Y2,Y3))\n",
    "\n",
    "print(X_train.shape,X_test.shape,Y_train.shape,Y_test.shape)"
   ]
  },
  {
   "cell_type": "markdown",
   "metadata": {},
   "source": [
    "## Dense network classifier"
   ]
  },
  {
   "cell_type": "code",
   "execution_count": 63,
   "metadata": {
    "colab": {
     "base_uri": "https://localhost:8080/",
     "height": 255
    },
    "colab_type": "code",
    "id": "sw_GCRUjsIwT",
    "outputId": "bf470809-5967-440e-8dc5-37a5350804d8"
   },
   "outputs": [
    {
     "name": "stdout",
     "output_type": "stream",
     "text": [
      "Model: \"sequential_15\"\n",
      "_________________________________________________________________\n",
      "Layer (type)                 Output Shape              Param #   \n",
      "=================================================================\n",
      "fc1 (Dense)                  (None, 80)                2007120   \n",
      "_________________________________________________________________\n",
      "fc2 (Dense)                  (None, 40)                3240      \n",
      "_________________________________________________________________\n",
      "predictions (Dense)          (None, 1)                 41        \n",
      "=================================================================\n",
      "Total params: 2,010,401\n",
      "Trainable params: 2,010,401\n",
      "Non-trainable params: 0\n",
      "_________________________________________________________________\n",
      "Train on 1583 samples, validate on 176 samples\n",
      "Epoch 1/10\n",
      "1583/1583 [==============================] - 2s 1ms/step - loss: 1.6316 - accuracy: 0.8598 - val_loss: 2.1146 - val_accuracy: 0.7898\n",
      "Epoch 2/10\n",
      "1583/1583 [==============================] - 2s 1ms/step - loss: 0.2713 - accuracy: 0.9621 - val_loss: 1.1125 - val_accuracy: 0.8807\n",
      "Epoch 3/10\n",
      "1583/1583 [==============================] - 2s 995us/step - loss: 0.0649 - accuracy: 0.9874 - val_loss: 1.0293 - val_accuracy: 0.8920\n",
      "Epoch 4/10\n",
      "1583/1583 [==============================] - 2s 998us/step - loss: 0.0753 - accuracy: 0.9867 - val_loss: 1.9563 - val_accuracy: 0.8807\n",
      "Epoch 5/10\n",
      "1583/1583 [==============================] - 2s 1ms/step - loss: 0.0154 - accuracy: 0.9949 - val_loss: 1.8997 - val_accuracy: 0.8864\n",
      "Epoch 6/10\n",
      "1583/1583 [==============================] - 2s 1ms/step - loss: 0.0042 - accuracy: 0.9994 - val_loss: 2.2708 - val_accuracy: 0.8580\n",
      "Epoch 7/10\n",
      "1583/1583 [==============================] - 2s 997us/step - loss: 2.8364e-04 - accuracy: 1.0000 - val_loss: 2.1462 - val_accuracy: 0.8693\n",
      "Epoch 8/10\n",
      "1583/1583 [==============================] - 2s 1ms/step - loss: 5.7262e-05 - accuracy: 1.0000 - val_loss: 1.9726 - val_accuracy: 0.8807\n",
      "Epoch 9/10\n",
      "1583/1583 [==============================] - 2s 1ms/step - loss: 1.6670e-05 - accuracy: 1.0000 - val_loss: 2.0207 - val_accuracy: 0.8750\n",
      "Epoch 10/10\n",
      "1583/1583 [==============================] - 2s 1ms/step - loss: 9.6468e-06 - accuracy: 1.0000 - val_loss: 2.0448 - val_accuracy: 0.8750\n"
     ]
    }
   ],
   "source": [
    "model = Sequential()\n",
    "model.add(Dense(80,input_dim = 25088, activation='relu', name='fc1'))\n",
    "model.add(Dense(40, activation='relu', name='fc2'))\n",
    "model.add(Dense(1, activation='sigmoid', name='predictions'))\n",
    "model.summary()\n",
    "\n",
    "model.compile(optimizer='adam',loss='binary_crossentropy',metrics=['accuracy'])\n",
    "\n",
    "history = model.fit(X_train, Y_train, validation_split=0.1, epochs=10)"
   ]
  },
  {
   "cell_type": "markdown",
   "metadata": {},
   "source": [
    "## Prediction over test data"
   ]
  },
  {
   "cell_type": "code",
   "execution_count": 64,
   "metadata": {
    "colab": {
     "base_uri": "https://localhost:8080/",
     "height": 255
    },
    "colab_type": "code",
    "id": "sw_GCRUjsIwT",
    "outputId": "bf470809-5967-440e-8dc5-37a5350804d8"
   },
   "outputs": [
    {
     "name": "stdout",
     "output_type": "stream",
     "text": [
      "460 430\n"
     ]
    }
   ],
   "source": [
    "y_test_nn = model.predict(X_test)\n",
    "\n",
    "c=0\n",
    "cnt=0\n",
    "for i in range(len(y_test_nn)):\n",
    "    if(y_test_nn[i]>0.5):\n",
    "        y_test_nn[i]=int(1)\n",
    "    else:\n",
    "        y_test_nn[i]=int(0)\n",
    "for i in range(len(Y_test)):\n",
    "        c+=1\n",
    "        if(y_test_nn[i]==Y_test[i]):\n",
    "                cnt+=1\n",
    "print(c,cnt)"
   ]
  },
  {
   "cell_type": "markdown",
   "metadata": {},
   "source": [
    "## Accuracy and Confusion matrix "
   ]
  },
  {
   "cell_type": "code",
   "execution_count": 65,
   "metadata": {
    "colab": {
     "base_uri": "https://localhost:8080/",
     "height": 255
    },
    "colab_type": "code",
    "id": "sw_GCRUjsIwT",
    "outputId": "bf470809-5967-440e-8dc5-37a5350804d8"
   },
   "outputs": [
    {
     "name": "stdout",
     "output_type": "stream",
     "text": [
      "211 219 11 19\n",
      "Accuracy of the model is 93.47826086956522\n"
     ]
    },
    {
     "data": {
      "image/png": "[encoded data removed]",
      "text/plain": [
       "<Figure size 432x288 with 2 Axes>"
      ]
     },
     "metadata": {
      "needs_background": "light"
     },
     "output_type": "display_data"
    }
   ],
   "source": [
    "True_Positive = 0\n",
    "True_Negative = 0\n",
    "False_Positive = 0\n",
    "False_Negative = 0\n",
    "for i in range(len(y_test_nn)):\n",
    "  if(y_test_nn[i]==1 and Y_test[i]==1):\n",
    "    True_Positive += 1\n",
    "  if(y_test_nn[i]==0 and Y_test[i]==0):\n",
    "    True_Negative += 1\n",
    "  if(y_test_nn[i]==1 and Y_test[i]==0):\n",
    "    False_Positive += 1\n",
    "  if(y_test_nn[i]==0 and Y_test[i]==1):\n",
    "    False_Negative += 1\n",
    "\n",
    "print(True_Positive,True_Negative,False_Positive,False_Negative)\n",
    "\n",
    "Accuracy = (True_Positive + True_Negative) / (True_Positive + True_Negative + False_Positive + False_Negative) *100\n",
    "print(f'Accuracy of the model is {Accuracy}')\n",
    "\n",
    "C = confusion_matrix(y_test_nn, Y_test)  # doctest: +SKIP\n",
    "#print(C) # doctest: +SKIP\n",
    "fig = plt.figure()\n",
    "ax = fig.add_subplot(111)\n",
    "cmap = ListedColormap(['r', 'g'])\n",
    "cax = ax.matshow(C,cmap = cmap)\n",
    "for (i, j), z in np.ndenumerate(C):\n",
    "    ax.text(j, i, '{:0.1f}'.format(z), ha='center', va='center')\n",
    "labels = ['Damaged', 'Cleaned']\n",
    "plt.title('Confusion matrix of the classifier')\n",
    "fig.colorbar(cax)\n",
    "ax.set_xticklabels([''] + labels)\n",
    "ax.set_yticklabels([''] + labels)\n",
    "plt.xlabel('Predicted')\n",
    "plt.ylabel('Actual')\n",
    "plt.show()"
   ]
  }
 ],
 "metadata": {
  "accelerator": "GPU",
  "colab": {
   "collapsed_sections": [],
   "name": "feature.ipynb",
   "provenance": []
  },
  "kernelspec": {
   "display_name": "Python 3",
   "language": "python",
   "name": "python3"
  },
  "language_info": {
   "codemirror_mode": {
    "name": "ipython",
    "version": 3
   },
   "file_extension": ".py",
   "mimetype": "text/x-python",
   "name": "python",
   "nbconvert_exporter": "python",
   "pygments_lexer": "ipython3",
   "version": "3.6.9"
  }
 },
 "nbformat": 4,
 "nbformat_minor": 1
}
